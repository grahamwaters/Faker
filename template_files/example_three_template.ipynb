{
 "cells": [
  {
   "cell_type": "code",
   "execution_count": 1,
   "metadata": {},
   "outputs": [
    {
     "name": "stdout",
     "output_type": "stream",
     "text": [
      "Requirement already satisfied: faker in /Users/grahamwaters/anaconda3/lib/python3.10/site-packages (18.7.0)\n",
      "Requirement already satisfied: python-dateutil>=2.4 in /Users/grahamwaters/anaconda3/lib/python3.10/site-packages (from faker) (2.8.2)\n",
      "Requirement already satisfied: six>=1.5 in /Users/grahamwaters/anaconda3/lib/python3.10/site-packages (from python-dateutil>=2.4->faker) (1.16.0)\n"
     ]
    }
   ],
   "source": [
    "!pip install faker --quiet\n",
    "!pip install pandas --quiet\n",
    "import pandas as pd\n",
    "from faker import Faker"
   ]
  },
  {
   "cell_type": "code",
   "execution_count": 14,
   "metadata": {},
   "outputs": [],
   "source": []
  },
  {
   "attachments": {},
   "cell_type": "markdown",
   "metadata": {},
   "source": [
    "What if we want to make some fake users?"
   ]
  },
  {
   "cell_type": "code",
   "execution_count": 15,
   "metadata": {},
   "outputs": [
    {
     "name": "stdout",
     "output_type": "stream",
     "text": [
      "Title of Post: Minute around central get leader now himself mind.\n",
      "Content of Post: Wind for couple remain least surface experience. Minute station between upon. Half decide power local really. Agency social number question consumer. Bar six really set officer list. Everyone task including hotel couple glass. Two last drive nature quality worry month. Lot Mr so action moment charge.\n"
     ]
    }
   ],
   "source": []
  },
  {
   "cell_type": "code",
   "execution_count": 16,
   "metadata": {},
   "outputs": [
    {
     "name": "stdout",
     "output_type": "stream",
     "text": [
      "Austin Costa (johnsmith)\n",
      "Denise Delgado (wanda63)\n",
      "Alexis Garcia (michelefuentes)\n",
      "Sandra Cox (jochoa)\n",
      "Kathryn Proctor (wheelerkaren)\n",
      "Andrew Rodriguez (lisapace)\n",
      "Vernon Benjamin (grantmichael)\n",
      "Jennifer Dickson (shepherdnicole)\n",
      "Garrett Wells (michael98)\n",
      "Edgar Daniels (pwebb)\n"
     ]
    }
   ],
   "source": []
  }
 ],
 "metadata": {
  "kernelspec": {
   "display_name": "Python 3",
   "language": "python",
   "name": "python3"
  },
  "language_info": {
   "codemirror_mode": {
    "name": "ipython",
    "version": 3
   },
   "file_extension": ".py",
   "mimetype": "text/x-python",
   "name": "python",
   "nbconvert_exporter": "python",
   "pygments_lexer": "ipython3",
   "version": "3.10.9"
  },
  "orig_nbformat": 4
 },
 "nbformat": 4,
 "nbformat_minor": 2
}
