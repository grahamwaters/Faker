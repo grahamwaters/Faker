{
 "cells": [
  {
   "cell_type": "code",
   "execution_count": 1,
   "metadata": {},
   "outputs": [
    {
     "name": "stdout",
     "output_type": "stream",
     "text": [
      "Requirement already satisfied: faker in /Users/grahamwaters/anaconda3/lib/python3.10/site-packages (18.7.0)\n",
      "Requirement already satisfied: python-dateutil>=2.4 in /Users/grahamwaters/anaconda3/lib/python3.10/site-packages (from faker) (2.8.2)\n",
      "Requirement already satisfied: six>=1.5 in /Users/grahamwaters/anaconda3/lib/python3.10/site-packages (from python-dateutil>=2.4->faker) (1.16.0)\n"
     ]
    }
   ],
   "source": [
    "!pip install faker"
   ]
  },
  {
   "cell_type": "code",
   "execution_count": 14,
   "metadata": {},
   "outputs": [],
   "source": [
    "from faker import Faker\n",
    "import random\n",
    "\n",
    "fake = Faker()\n",
    "\n",
    "def get_fake_post():\n",
    "    return {\n",
    "        'title': fake.sentence(),\n",
    "        'content': ' '.join(fake.paragraphs()),\n",
    "        'likes': random.randint(0, 100),\n",
    "        'creation_date': fake.date_this_year()\n",
    "    }\n",
    "\n",
    "# generate 100 fake posts\n",
    "fake_posts = [get_fake_post() for _ in range(100)]"
   ]
  },
  {
   "attachments": {},
   "cell_type": "markdown",
   "metadata": {},
   "source": [
    "What if we want to make some fake users?"
   ]
  },
  {
   "cell_type": "code",
   "execution_count": 15,
   "metadata": {},
   "outputs": [
    {
     "name": "stdout",
     "output_type": "stream",
     "text": [
      "Title of Post: Minute around central get leader now himself mind.\n",
      "Content of Post: Wind for couple remain least surface experience. Minute station between upon. Half decide power local really. Agency social number question consumer. Bar six really set officer list. Everyone task including hotel couple glass. Two last drive nature quality worry month. Lot Mr so action moment charge.\n"
     ]
    }
   ],
   "source": [
    "# print a random post\n",
    "random_post = random.choice(fake_posts)\n",
    "print(f'Title of Post: {random_post[\"title\"]}')\n",
    "print(f'Content of Post: {random_post[\"content\"]}')"
   ]
  },
  {
   "cell_type": "code",
   "execution_count": 16,
   "metadata": {},
   "outputs": [
    {
     "name": "stdout",
     "output_type": "stream",
     "text": [
      "Austin Costa (johnsmith)\n",
      "Denise Delgado (wanda63)\n",
      "Alexis Garcia (michelefuentes)\n",
      "Sandra Cox (jochoa)\n",
      "Kathryn Proctor (wheelerkaren)\n",
      "Andrew Rodriguez (lisapace)\n",
      "Vernon Benjamin (grantmichael)\n",
      "Jennifer Dickson (shepherdnicole)\n",
      "Garrett Wells (michael98)\n",
      "Edgar Daniels (pwebb)\n"
     ]
    }
   ],
   "source": [
    "from faker import Faker\n",
    "\n",
    "fake = Faker()\n",
    "\n",
    "def get_fake_user():\n",
    "    return {\n",
    "        'first_name': fake.first_name(),\n",
    "        'last_name': fake.last_name(),\n",
    "        'username': fake.user_name(),\n",
    "        'email': fake.email(),\n",
    "        'birthdate': fake.date_of_birth(minimum_age=18, maximum_age=90).isoformat(),\n",
    "    }\n",
    "\n",
    "# generate 50 fake users\n",
    "fake_users = [get_fake_user() for _ in range(50)]\n",
    "\n",
    "# print the first ten users\n",
    "for user in fake_users[:10]:\n",
    "    print(f'{user[\"first_name\"]} {user[\"last_name\"]} ({user[\"username\"]})')"
   ]
  }
 ],
 "metadata": {
  "kernelspec": {
   "display_name": "Python 3",
   "language": "python",
   "name": "python3"
  },
  "language_info": {
   "codemirror_mode": {
    "name": "ipython",
    "version": 3
   },
   "file_extension": ".py",
   "mimetype": "text/x-python",
   "name": "python",
   "nbconvert_exporter": "python",
   "pygments_lexer": "ipython3",
   "version": "3.10.9"
  },
  "orig_nbformat": 4
 },
 "nbformat": 4,
 "nbformat_minor": 2
}
